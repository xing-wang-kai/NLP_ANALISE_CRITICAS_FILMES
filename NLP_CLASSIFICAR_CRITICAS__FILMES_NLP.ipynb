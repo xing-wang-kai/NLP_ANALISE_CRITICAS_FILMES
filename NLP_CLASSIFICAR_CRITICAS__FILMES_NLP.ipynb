{
  "nbformat": 4,
  "nbformat_minor": 0,
  "metadata": {
    "colab": {
      "provenance": [],
      "authorship_tag": "ABX9TyOFhR1MYafELNqymOB3qESr",
      "include_colab_link": true
    },
    "kernelspec": {
      "name": "python3",
      "display_name": "Python 3"
    },
    "language_info": {
      "name": "python"
    }
  },
  "cells": [
    {
      "cell_type": "markdown",
      "metadata": {
        "id": "view-in-github",
        "colab_type": "text"
      },
      "source": [
        "<a href=\"https://colab.research.google.com/github/xing-wang-kai/NLP_ANALISE_CRITICAS_FILMES/blob/main/NLP_CLASSIFICAR_CRITICAS__FILMES_NLP.ipynb\" target=\"_parent\"><img src=\"https://colab.research.google.com/assets/colab-badge.svg\" alt=\"Open In Colab\"/></a>"
      ]
    },
    {
      "cell_type": "markdown",
      "source": [
        "# NLP\n",
        "\n",
        "Processamento de Linguagem Natural\n",
        "\n",
        "Nesse projeto será realizado limpeza de dados para processamento de lingagem natural que será trabalhado com modelos de machine Learn\n"
      ],
      "metadata": {
        "id": "rce6RJxnbFY_"
      }
    },
    {
      "cell_type": "code",
      "execution_count": 1,
      "metadata": {
        "id": "mMgYFEhLazhC"
      },
      "outputs": [],
      "source": [
        "import pandas as pd\n",
        "import numpy as np"
      ]
    },
    {
      "cell_type": "code",
      "source": [],
      "metadata": {
        "id": "M8u2SAIyeA05"
      },
      "execution_count": null,
      "outputs": []
    }
  ]
}